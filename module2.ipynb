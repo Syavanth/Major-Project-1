{
 "cells": [
  {
   "cell_type": "code",
   "execution_count": 1,
   "id": "cfd1a35e-6122-4a13-bfab-df6fde8b5e7f",
   "metadata": {},
   "outputs": [
    {
     "name": "stdout",
     "output_type": "stream",
     "text": [
      "[1 2 3 4 5]\n"
     ]
    }
   ],
   "source": [
    "import numpy as np\n",
    "\n",
    "# Python list\n",
    "py_list = [1, 2, 3, 4, 5]\n",
    "\n",
    "# Convert to NumPy array\n",
    "np_array = np.array(py_list)\n",
    "\n",
    "print(np_array)  # Output: [1 2 3 4 5]\n"
   ]
  },
  {
   "cell_type": "code",
   "execution_count": 3,
   "id": "ff7242b3-55fb-4700-8e42-13817a47b9a5",
   "metadata": {},
   "outputs": [
    {
     "name": "stdout",
     "output_type": "stream",
     "text": [
      "[[0. 0. 0. 0.]\n",
      " [0. 0. 0. 0.]\n",
      " [0. 0. 0. 0.]]\n"
     ]
    }
   ],
   "source": [
    "import numpy as np\n",
    "\n",
    "# Create an array filled with zeros\n",
    "zeros_array = np.zeros((3, 4))  # Shape (3, 4)\n",
    "\n",
    "print(zeros_array)\n",
    "# Output:\n",
    "# [[0. 0. 0. 0.]\n",
    "#  [0. 0. 0. 0.]\n",
    "#  [0. 0. 0. 0.]]\n"
   ]
  },
  {
   "cell_type": "code",
   "execution_count": 5,
   "id": "a69bc02d-6f48-49d4-bcb7-ee32ca0dccec",
   "metadata": {},
   "outputs": [
    {
     "name": "stdout",
     "output_type": "stream",
     "text": [
      "[[1. 1. 1.]\n",
      " [1. 1. 1.]]\n"
     ]
    }
   ],
   "source": [
    "import numpy as np\n",
    "\n",
    "# Create an array filled with ones\n",
    "ones_array = np.ones((2, 3))  # Shape (2, 3)\n",
    "\n",
    "print(ones_array)\n",
    "# Output:\n",
    "# [[1. 1. 1.]\n",
    "#  [1. 1. 1.]]\n"
   ]
  },
  {
   "cell_type": "code",
   "execution_count": 7,
   "id": "332e4694-5e22-46fb-be88-c8acfa53ec60",
   "metadata": {},
   "outputs": [
    {
     "name": "stdout",
     "output_type": "stream",
     "text": [
      "[0 1 2 3 4 5 6 7 8 9]\n"
     ]
    }
   ],
   "source": [
    "import numpy as np\n",
    "\n",
    "# Create an array with a range of values\n",
    "range_array = np.arange(10)  # Range from 0 to 9\n",
    "\n",
    "print(range_array)  # Output: [0 1 2 3 4 5 6 7 8 9]\n"
   ]
  },
  {
   "cell_type": "code",
   "execution_count": 9,
   "id": "47721d1a-7eac-4e22-9a9b-1bfd98ae2ab8",
   "metadata": {},
   "outputs": [
    {
     "name": "stdout",
     "output_type": "stream",
     "text": [
      "[[1. 0. 0.]\n",
      " [0. 1. 0.]\n",
      " [0. 0. 1.]]\n"
     ]
    }
   ],
   "source": [
    "import numpy as np\n",
    "\n",
    "# Create a 3x3 identity matrix\n",
    "identity_matrix = np.eye(3)\n",
    "\n",
    "print(identity_matrix)\n",
    "# Output:\n",
    "# [[1. 0. 0.]\n",
    "#  [0. 1. 0.]\n",
    "#  [0. 0. 1.]]\n"
   ]
  },
  {
   "cell_type": "code",
   "execution_count": 11,
   "id": "7842ce6d-a497-4d5d-a32c-89e7f77104e3",
   "metadata": {},
   "outputs": [
    {
     "name": "stdout",
     "output_type": "stream",
     "text": [
      "(2, 3)\n"
     ]
    }
   ],
   "source": [
    "import numpy as np\n",
    "\n",
    "# Create an array\n",
    "array = np.array([[1, 2, 3], [4, 5, 6]])\n",
    "\n",
    "# Find the shape\n",
    "shape = array.shape\n",
    "\n",
    "print(shape)  # Output: (2, 3)\n"
   ]
  },
  {
   "cell_type": "code",
   "execution_count": 13,
   "id": "0652ef88-d6d5-44dc-acca-61ad42f2a601",
   "metadata": {},
   "outputs": [
    {
     "name": "stdout",
     "output_type": "stream",
     "text": [
      "[[ 0  1  2  3]\n",
      " [ 4  5  6  7]\n",
      " [ 8  9 10 11]]\n"
     ]
    }
   ],
   "source": [
    "import numpy as np\n",
    "\n",
    "# Create an array\n",
    "array = np.arange(12)\n",
    "\n",
    "# Reshape the array\n",
    "reshaped_array = array.reshape((3, 4))\n",
    "\n",
    "print(reshaped_array)\n",
    "# Output:\n",
    "# [[ 0  1  2  3]\n",
    "#  [ 4  5  6  7]\n",
    "#  [ 8  9 10 11]]\n"
   ]
  },
  {
   "cell_type": "code",
   "execution_count": 15,
   "id": "08e7eea8-265f-42bd-9ef6-199374c5eea2",
   "metadata": {},
   "outputs": [
    {
     "name": "stdout",
     "output_type": "stream",
     "text": [
      "[5 4 3 2 1]\n"
     ]
    }
   ],
   "source": [
    "import numpy as np\n",
    "\n",
    "# Create an array\n",
    "array = np.array([1, 2, 3, 4, 5])\n",
    "\n",
    "# Reverse the array\n",
    "reversed_array = array[::-1]\n",
    "\n",
    "print(reversed_array)  # Output: [5 4 3 2 1]\n"
   ]
  },
  {
   "cell_type": "code",
   "execution_count": 17,
   "id": "ba54f315-9317-4b72-a95e-2b0448b735da",
   "metadata": {},
   "outputs": [
    {
     "name": "stdout",
     "output_type": "stream",
     "text": [
      "[1 2 3 4 5 6]\n"
     ]
    }
   ],
   "source": [
    "import numpy as np\n",
    "\n",
    "# Create two arrays\n",
    "array1 = np.array([1, 2, 3])\n",
    "array2 = np.array([4, 5, 6])\n",
    "\n",
    "# Concatenate the arrays\n",
    "concatenated_array = np.concatenate((array1, array2))\n",
    "\n",
    "print(concatenated_array)  # Output: [1 2 3 4 5 6]\n"
   ]
  },
  {
   "cell_type": "code",
   "execution_count": 19,
   "id": "efc8eafb-a878-4698-9930-6a97123c1958",
   "metadata": {},
   "outputs": [
    {
     "name": "stdout",
     "output_type": "stream",
     "text": [
      "9\n"
     ]
    }
   ],
   "source": [
    "import numpy as np\n",
    "\n",
    "# Create an array\n",
    "array = np.array([1, 3, 5, 7, 9])\n",
    "\n",
    "# Find the maximum value\n",
    "max_value = np.max(array)\n",
    "\n",
    "print(max_value)  # Output: 9\n"
   ]
  },
  {
   "cell_type": "code",
   "execution_count": 21,
   "id": "944d25f6-6392-46a0-b88e-a7205dd8d8ec",
   "metadata": {},
   "outputs": [
    {
     "name": "stdout",
     "output_type": "stream",
     "text": [
      "1\n"
     ]
    }
   ],
   "source": [
    "import numpy as np\n",
    "\n",
    "# Create an array\n",
    "array = np.array([1, 3, 5, 7, 9])\n",
    "\n",
    "# Find the minimum value\n",
    "min_value = np.min(array)\n",
    "\n",
    "print(min_value)  # Output: 1\n"
   ]
  },
  {
   "cell_type": "code",
   "execution_count": 23,
   "id": "f1e4fa49-2f09-4d6d-9ed9-971e88b739a0",
   "metadata": {},
   "outputs": [
    {
     "name": "stdout",
     "output_type": "stream",
     "text": [
      "3.0\n"
     ]
    }
   ],
   "source": [
    "import numpy as np\n",
    "\n",
    "# Create an array\n",
    "array = np.array([1, 2, 3, 4, 5])\n",
    "\n",
    "# Find the mean\n",
    "mean_value = np.mean(array)\n",
    "\n",
    "print(mean_value)  # Output: 3.0\n"
   ]
  },
  {
   "cell_type": "code",
   "execution_count": 25,
   "id": "36208e61-cf7b-4e9f-a142-615c5547e8f6",
   "metadata": {},
   "outputs": [
    {
     "name": "stdout",
     "output_type": "stream",
     "text": [
      "1.4142135623730951\n"
     ]
    }
   ],
   "source": [
    "import numpy as np\n",
    "\n",
    "# Create an array\n",
    "array = np.array([1, 2, 3, 4, 5])\n",
    "\n",
    "# Find the standard deviation\n",
    "std_dev = np.std(array)\n",
    "\n",
    "print(std_dev)  # Output: 1.4142135623730951\n"
   ]
  },
  {
   "cell_type": "code",
   "execution_count": 27,
   "id": "c030c197-d30f-40fb-b4e4-48df49fa9d09",
   "metadata": {},
   "outputs": [
    {
     "name": "stdout",
     "output_type": "stream",
     "text": [
      "15\n"
     ]
    }
   ],
   "source": [
    "import numpy as np\n",
    "\n",
    "# Create an array\n",
    "array = np.array([1, 2, 3, 4, 5])\n",
    "\n",
    "# Find the sum\n",
    "sum_value = np.sum(array)\n",
    "\n",
    "print(sum_value)  # Output: 15\n"
   ]
  },
  {
   "cell_type": "code",
   "execution_count": 29,
   "id": "eae3e1a4-86d7-4082-85ea-6c5bbb86d63d",
   "metadata": {},
   "outputs": [
    {
     "name": "stdout",
     "output_type": "stream",
     "text": [
      "[1 2 3 4 5]\n",
      "[[1 2 3]\n",
      " [4 5 6]]\n",
      "[[[1 2]\n",
      "  [3 4]]\n",
      "\n",
      " [[5 6]\n",
      "  [7 8]]]\n"
     ]
    }
   ],
   "source": [
    "import numpy as np\n",
    "\n",
    "# 1D array\n",
    "array_1d = np.array([1, 2, 3, 4, 5])\n",
    "\n",
    "# 2D array\n",
    "array_2d = np.array([[1, 2, 3], [4, 5, 6]])\n",
    "\n",
    "# 3D array\n",
    "array_3d = np.array([[[1, 2], [3, 4]], [[5, 6], [7, 8]]])\n",
    "\n",
    "print(array_1d)\n",
    "print(array_2d)\n",
    "print(array_3d)\n"
   ]
  },
  {
   "cell_type": "code",
   "execution_count": 31,
   "id": "7880242f-eaf4-4fae-b682-51edd7463d9e",
   "metadata": {},
   "outputs": [
    {
     "name": "stdout",
     "output_type": "stream",
     "text": [
      "[5 7 9]\n"
     ]
    }
   ],
   "source": [
    "import numpy as np\n",
    "\n",
    "# Create two arrays\n",
    "array1 = np.array([1, 2, 3])\n",
    "array2 = np.array([4, 5, 6])\n",
    "\n",
    "# Perform element-wise addition\n",
    "sum_array = array1 + array2\n",
    "\n",
    "print(sum_array)  # Output: [5 7 9]\n"
   ]
  },
  {
   "cell_type": "code",
   "execution_count": 33,
   "id": "d210fb9d-d9d9-4787-837a-6984ee93f781",
   "metadata": {},
   "outputs": [
    {
     "name": "stdout",
     "output_type": "stream",
     "text": [
      "[ 4 10 18]\n"
     ]
    }
   ],
   "source": [
    "import numpy as np\n",
    "\n",
    "# Create two arrays\n",
    "array1 = np.array([1, 2, 3])\n",
    "array2 = np.array([4, 5, 6])\n",
    "\n",
    "# Perform element-wise multiplication\n",
    "product_array = array1 * array2\n",
    "\n",
    "print(product_array)  # Output: [ 4 10 18]\n"
   ]
  },
  {
   "cell_type": "code",
   "execution_count": 35,
   "id": "7358220c-9388-4ffa-a76f-907ec48dd106",
   "metadata": {},
   "outputs": [
    {
     "name": "stdout",
     "output_type": "stream",
     "text": [
      "[[19 22]\n",
      " [43 50]]\n"
     ]
    }
   ],
   "source": [
    "import numpy as np\n",
    "\n",
    "# Create two matrices\n",
    "matrix1 = np.array([[1, 2], [3, 4]])\n",
    "matrix2 = np.array([[5, 6], [7, 8]])\n",
    "\n",
    "# Perform matrix multiplication\n",
    "matrix_product = np.dot(matrix1, matrix2)\n",
    "\n",
    "print(matrix_product)\n",
    "# Output:\n",
    "# [[19 22]\n",
    "#  [43 50]]\n"
   ]
  },
  {
   "cell_type": "code",
   "execution_count": 37,
   "id": "e5413f81-995d-4ed7-9ac3-bcb8fba95474",
   "metadata": {},
   "outputs": [
    {
     "name": "stdout",
     "output_type": "stream",
     "text": [
      "[[1 4]\n",
      " [2 5]\n",
      " [3 6]]\n"
     ]
    }
   ],
   "source": [
    "import numpy as np\n",
    "\n",
    "# Create a 2D array\n",
    "array = np.array([[1, 2, 3], [4, 5, 6]])\n",
    "\n",
    "# Transpose the array\n",
    "transposed_array = np.transpose(array)\n",
    "\n",
    "print(transposed_array)\n",
    "# Output:\n",
    "# [[1 4]\n",
    "#  [2 5]\n",
    "#  [3 6]]\n"
   ]
  },
  {
   "cell_type": "code",
   "execution_count": 39,
   "id": "3032241d-8d3a-4bc4-b29c-fb39d6fd8b3f",
   "metadata": {},
   "outputs": [
    {
     "name": "stdout",
     "output_type": "stream",
     "text": [
      "[[-2.   1. ]\n",
      " [ 1.5 -0.5]]\n"
     ]
    }
   ],
   "source": [
    "import numpy as np\n",
    "\n",
    "# Create a matrix\n",
    "matrix = np.array([[1, 2], [3, 4]])\n",
    "\n",
    "# Compute the inverse\n",
    "inverse_matrix = np.linalg.inv(matrix)\n",
    "\n",
    "print(inverse_matrix)\n",
    "# Output:\n",
    "# [[-2.   1. ]\n",
    "#  [ 1.5 -0.5]]\n"
   ]
  },
  {
   "cell_type": "code",
   "execution_count": 41,
   "id": "16553500-5753-4682-ae97-0585b6f2609e",
   "metadata": {},
   "outputs": [
    {
     "name": "stdout",
     "output_type": "stream",
     "text": [
      "[1 1 3 4 5 9]\n"
     ]
    }
   ],
   "source": [
    "import numpy as np\n",
    "\n",
    "# Create an array\n",
    "array = np.array([3, 1, 4, 1, 5, 9])\n",
    "\n",
    "# Sort the array\n",
    "sorted_array = np.sort(array)\n",
    "\n",
    "print(sorted_array)  # Output: [1 1 3 4 5 9]\n"
   ]
  },
  {
   "cell_type": "code",
   "execution_count": 43,
   "id": "b9089c44-19b4-4543-9f44-8dfdddcfef10",
   "metadata": {},
   "outputs": [
    {
     "name": "stdout",
     "output_type": "stream",
     "text": [
      "[0.17700163 0.85246157 0.14925497 0.10169361 0.99478676]\n",
      "[7 7 9 7 0]\n"
     ]
    }
   ],
   "source": [
    "import numpy as np\n",
    "\n",
    "# Generate random numbers between 0 and 1\n",
    "random_numbers = np.random.rand(5)\n",
    "\n",
    "# Generate random integers between 0 and 10\n",
    "random_integers = np.random.randint(0, 10, size=5)\n",
    "\n",
    "print(random_numbers)\n",
    "print(random_integers)\n"
   ]
  },
  {
   "cell_type": "code",
   "execution_count": null,
   "id": "11d94d41-7672-40c5-a483-12b4b6b9df7b",
   "metadata": {},
   "outputs": [],
   "source": []
  }
 ],
 "metadata": {
  "kernelspec": {
   "display_name": "Python 3 (ipykernel)",
   "language": "python",
   "name": "python3"
  },
  "language_info": {
   "codemirror_mode": {
    "name": "ipython",
    "version": 3
   },
   "file_extension": ".py",
   "mimetype": "text/x-python",
   "name": "python",
   "nbconvert_exporter": "python",
   "pygments_lexer": "ipython3",
   "version": "3.12.4"
  }
 },
 "nbformat": 4,
 "nbformat_minor": 5
}
