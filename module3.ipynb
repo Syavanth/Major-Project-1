{
 "cells": [
  {
   "cell_type": "code",
   "execution_count": 16,
   "id": "c6540cfe-24c0-4853-9b73-bdbea1ca3747",
   "metadata": {},
   "outputs": [
    {
     "data": {
      "text/html": [
       "<div>\n",
       "<style scoped>\n",
       "    .dataframe tbody tr th:only-of-type {\n",
       "        vertical-align: middle;\n",
       "    }\n",
       "\n",
       "    .dataframe tbody tr th {\n",
       "        vertical-align: top;\n",
       "    }\n",
       "\n",
       "    .dataframe thead th {\n",
       "        text-align: right;\n",
       "    }\n",
       "</style>\n",
       "<table border=\"1\" class=\"dataframe\">\n",
       "  <thead>\n",
       "    <tr style=\"text-align: right;\">\n",
       "      <th></th>\n",
       "      <th>filmtv_id</th>\n",
       "      <th>titolo_originale</th>\n",
       "      <th>titolo_italiano</th>\n",
       "      <th>anno</th>\n",
       "      <th>genere</th>\n",
       "      <th>durata</th>\n",
       "      <th>paese</th>\n",
       "      <th>registi</th>\n",
       "      <th>attori</th>\n",
       "      <th>voto_medio</th>\n",
       "      <th>voto_critica</th>\n",
       "      <th>voto_pubblico</th>\n",
       "      <th>voti_totali</th>\n",
       "      <th>descrizione</th>\n",
       "      <th>note</th>\n",
       "      <th>humor</th>\n",
       "      <th>ritmo</th>\n",
       "      <th>impegno</th>\n",
       "      <th>tensione</th>\n",
       "      <th>erotismo</th>\n",
       "    </tr>\n",
       "  </thead>\n",
       "  <tbody>\n",
       "    <tr>\n",
       "      <th>0</th>\n",
       "      <td>2</td>\n",
       "      <td>Bugs Bunny's Third Movie: 1001 Rabbit Tales</td>\n",
       "      <td>Le 1001 favole di Bugs Bunny</td>\n",
       "      <td>1982</td>\n",
       "      <td>Animazione</td>\n",
       "      <td>76</td>\n",
       "      <td>USA</td>\n",
       "      <td>David Detiege, Art Davis, Bill Perez</td>\n",
       "      <td>NaN</td>\n",
       "      <td>7.7</td>\n",
       "      <td>8.00</td>\n",
       "      <td>7.0</td>\n",
       "      <td>22</td>\n",
       "      <td>Con i due incisivi sporgenti, l'aria un po' fu...</td>\n",
       "      <td>Si tratta di tante piccole storie indipendenti...</td>\n",
       "      <td>3</td>\n",
       "      <td>3</td>\n",
       "      <td>0</td>\n",
       "      <td>0</td>\n",
       "      <td>0</td>\n",
       "    </tr>\n",
       "    <tr>\n",
       "      <th>1</th>\n",
       "      <td>3</td>\n",
       "      <td>18 anni tra una settimana</td>\n",
       "      <td>18 anni tra una settimana</td>\n",
       "      <td>1991</td>\n",
       "      <td>Drammatico</td>\n",
       "      <td>98</td>\n",
       "      <td>Italia</td>\n",
       "      <td>Luigi Perelli</td>\n",
       "      <td>Kim Rossi Stuart, Simona Cavallari, Ennio Fant...</td>\n",
       "      <td>6.5</td>\n",
       "      <td>6.00</td>\n",
       "      <td>7.0</td>\n",
       "      <td>4</td>\n",
       "      <td>Samantha, non ancora diciottenne, abbandona gl...</td>\n",
       "      <td>Luigi Perelli, il regista della \"Piovra\", comp...</td>\n",
       "      <td>0</td>\n",
       "      <td>2</td>\n",
       "      <td>0</td>\n",
       "      <td>2</td>\n",
       "      <td>0</td>\n",
       "    </tr>\n",
       "    <tr>\n",
       "      <th>2</th>\n",
       "      <td>17</td>\n",
       "      <td>Ride a Wild Pony</td>\n",
       "      <td>A cavallo di un pony selvaggio</td>\n",
       "      <td>1976</td>\n",
       "      <td>Sentimentale</td>\n",
       "      <td>91</td>\n",
       "      <td>USA</td>\n",
       "      <td>Don Chaffey</td>\n",
       "      <td>Michael Craig, John Meillon, Eva Griffith, Gra...</td>\n",
       "      <td>5.7</td>\n",
       "      <td>6.00</td>\n",
       "      <td>5.0</td>\n",
       "      <td>10</td>\n",
       "      <td>Nell'Australia dei pionieri un ragazzino e una...</td>\n",
       "      <td>Favola \"ecologica\" a lieto fine non priva di m...</td>\n",
       "      <td>1</td>\n",
       "      <td>2</td>\n",
       "      <td>1</td>\n",
       "      <td>0</td>\n",
       "      <td>0</td>\n",
       "    </tr>\n",
       "    <tr>\n",
       "      <th>3</th>\n",
       "      <td>18</td>\n",
       "      <td>Diner</td>\n",
       "      <td>A cena con gli amici</td>\n",
       "      <td>1982</td>\n",
       "      <td>Commedia</td>\n",
       "      <td>95</td>\n",
       "      <td>USA</td>\n",
       "      <td>Barry Levinson</td>\n",
       "      <td>Mickey Rourke, Steve Guttenberg, Ellen Barkin,...</td>\n",
       "      <td>7.0</td>\n",
       "      <td>8.00</td>\n",
       "      <td>6.0</td>\n",
       "      <td>18</td>\n",
       "      <td>Cinque ragazzi di Baltimora hanno l'abitudine ...</td>\n",
       "      <td>Un cast di saranno famosi per l'esordio nella ...</td>\n",
       "      <td>2</td>\n",
       "      <td>2</td>\n",
       "      <td>0</td>\n",
       "      <td>1</td>\n",
       "      <td>2</td>\n",
       "    </tr>\n",
       "    <tr>\n",
       "      <th>4</th>\n",
       "      <td>20</td>\n",
       "      <td>A che servono questi quattrini?</td>\n",
       "      <td>A che servono questi quattrini?</td>\n",
       "      <td>1942</td>\n",
       "      <td>Commedia</td>\n",
       "      <td>85</td>\n",
       "      <td>Italia</td>\n",
       "      <td>Esodo Pratelli</td>\n",
       "      <td>Eduardo De Filippo, Peppino De Filippo, Clelia...</td>\n",
       "      <td>5.9</td>\n",
       "      <td>5.33</td>\n",
       "      <td>7.0</td>\n",
       "      <td>15</td>\n",
       "      <td>Con uno stratagemma, il marchese Parascandolo ...</td>\n",
       "      <td>Tratto dalla pièce teatrale di Armando Curcio ...</td>\n",
       "      <td>3</td>\n",
       "      <td>1</td>\n",
       "      <td>1</td>\n",
       "      <td>0</td>\n",
       "      <td>0</td>\n",
       "    </tr>\n",
       "  </tbody>\n",
       "</table>\n",
       "</div>"
      ],
      "text/plain": [
       "   filmtv_id                             titolo_originale  \\\n",
       "0          2  Bugs Bunny's Third Movie: 1001 Rabbit Tales   \n",
       "1          3                    18 anni tra una settimana   \n",
       "2         17                             Ride a Wild Pony   \n",
       "3         18                                        Diner   \n",
       "4         20              A che servono questi quattrini?   \n",
       "\n",
       "                   titolo_italiano  anno        genere  durata   paese  \\\n",
       "0     Le 1001 favole di Bugs Bunny  1982    Animazione      76     USA   \n",
       "1        18 anni tra una settimana  1991    Drammatico      98  Italia   \n",
       "2   A cavallo di un pony selvaggio  1976  Sentimentale      91     USA   \n",
       "3             A cena con gli amici  1982      Commedia      95     USA   \n",
       "4  A che servono questi quattrini?  1942      Commedia      85  Italia   \n",
       "\n",
       "                                registi  \\\n",
       "0  David Detiege, Art Davis, Bill Perez   \n",
       "1                         Luigi Perelli   \n",
       "2                           Don Chaffey   \n",
       "3                        Barry Levinson   \n",
       "4                        Esodo Pratelli   \n",
       "\n",
       "                                              attori  voto_medio  \\\n",
       "0                                                NaN         7.7   \n",
       "1  Kim Rossi Stuart, Simona Cavallari, Ennio Fant...         6.5   \n",
       "2  Michael Craig, John Meillon, Eva Griffith, Gra...         5.7   \n",
       "3  Mickey Rourke, Steve Guttenberg, Ellen Barkin,...         7.0   \n",
       "4  Eduardo De Filippo, Peppino De Filippo, Clelia...         5.9   \n",
       "\n",
       "   voto_critica  voto_pubblico  voti_totali  \\\n",
       "0          8.00            7.0           22   \n",
       "1          6.00            7.0            4   \n",
       "2          6.00            5.0           10   \n",
       "3          8.00            6.0           18   \n",
       "4          5.33            7.0           15   \n",
       "\n",
       "                                         descrizione  \\\n",
       "0  Con i due incisivi sporgenti, l'aria un po' fu...   \n",
       "1  Samantha, non ancora diciottenne, abbandona gl...   \n",
       "2  Nell'Australia dei pionieri un ragazzino e una...   \n",
       "3  Cinque ragazzi di Baltimora hanno l'abitudine ...   \n",
       "4  Con uno stratagemma, il marchese Parascandolo ...   \n",
       "\n",
       "                                                note  humor  ritmo  impegno  \\\n",
       "0  Si tratta di tante piccole storie indipendenti...      3      3        0   \n",
       "1  Luigi Perelli, il regista della \"Piovra\", comp...      0      2        0   \n",
       "2  Favola \"ecologica\" a lieto fine non priva di m...      1      2        1   \n",
       "3  Un cast di saranno famosi per l'esordio nella ...      2      2        0   \n",
       "4  Tratto dalla pièce teatrale di Armando Curcio ...      3      1        1   \n",
       "\n",
       "   tensione  erotismo  \n",
       "0         0         0  \n",
       "1         2         0  \n",
       "2         0         0  \n",
       "3         1         2  \n",
       "4         0         0  "
      ]
     },
     "execution_count": 16,
     "metadata": {},
     "output_type": "execute_result"
    }
   ],
   "source": [
    "import pandas as pd\n",
    "\n",
    "# Load the dataset\n",
    "file_path = 'filmtv_movies_ita.csv'\n",
    "movies_df = pd.read_csv(file_path)\n",
    "\n",
    "# Display the first few rows to inspect the dataset\n",
    "movies_df.head()\n",
    "\n",
    "\n"
   ]
  },
  {
   "cell_type": "code",
   "execution_count": 18,
   "id": "31108d49-3784-4be4-8c97-9e0b0ca18253",
   "metadata": {},
   "outputs": [
    {
     "name": "stdout",
     "output_type": "stream",
     "text": [
      "Average Duration: 100.53716273339936\n"
     ]
    }
   ],
   "source": [
    "average_duration = movies_df['durata'].mean()\n",
    "print(\"Average Duration:\", average_duration)\n",
    "\n"
   ]
  },
  {
   "cell_type": "code",
   "execution_count": 20,
   "id": "b1a3f0a3-145e-40cb-b3d0-2655e647436c",
   "metadata": {},
   "outputs": [
    {
     "name": "stdout",
     "output_type": "stream",
     "text": [
      "Movie with the Highest Average Vote: Kiss the Bride\n"
     ]
    }
   ],
   "source": [
    "highest_avg_vote_movie = movies_df.loc[movies_df['voto_medio'].idxmax(), 'titolo_originale']\n",
    "print(\"Movie with the Highest Average Vote:\", highest_avg_vote_movie)\n"
   ]
  },
  {
   "cell_type": "code",
   "execution_count": 22,
   "id": "49f00977-ca42-471a-9149-196549af3c7c",
   "metadata": {},
   "outputs": [
    {
     "name": "stdout",
     "output_type": "stream",
     "text": [
      "Number of Movies from the USA: 16490\n"
     ]
    }
   ],
   "source": [
    "us_movies_count = movies_df[movies_df['paese'] == 'USA'].shape[0]\n",
    "print(\"Number of Movies from the USA:\", us_movies_count)\n"
   ]
  },
  {
   "cell_type": "code",
   "execution_count": 24,
   "id": "d8265b7d-93f7-4001-b498-28d04b4410fc",
   "metadata": {},
   "outputs": [
    {
     "name": "stdout",
     "output_type": "stream",
     "text": [
      "Total Votes for '18 anni tra una settimana': 4\n"
     ]
    }
   ],
   "source": [
    "votes_18_anni = movies_df[movies_df['titolo_originale'] == \"18 anni tra una settimana\"]['voti_totali'].values[0]\n",
    "print(\"Total Votes for '18 anni tra una settimana':\", votes_18_anni)\n"
   ]
  },
  {
   "cell_type": "code",
   "execution_count": 26,
   "id": "e7894539-3249-4993-b19f-a83eeb31d3ff",
   "metadata": {},
   "outputs": [
    {
     "name": "stdout",
     "output_type": "stream",
     "text": [
      "Movie with the Highest Critics' Votes: Regina\n"
     ]
    }
   ],
   "source": [
    "highest_critics_vote_movie = movies_df.loc[movies_df['voto_critica'].idxmax(), 'titolo_originale']\n",
    "print(\"Movie with the Highest Critics' Votes:\", highest_critics_vote_movie)\n"
   ]
  },
  {
   "cell_type": "code",
   "execution_count": 28,
   "id": "9333257e-98b5-46b2-96cc-9b30dcab64df",
   "metadata": {},
   "outputs": [
    {
     "name": "stdout",
     "output_type": "stream",
     "text": [
      "Genre of 'Ride a Wild Pony': Sentimentale\n"
     ]
    }
   ],
   "source": [
    "genre_ride_a_wild_pony = movies_df[movies_df['titolo_originale'] == \"Ride a Wild Pony\"]['genere'].values[0]\n",
    "print(\"Genre of 'Ride a Wild Pony':\", genre_ride_a_wild_pony)\n"
   ]
  },
  {
   "cell_type": "code",
   "execution_count": 30,
   "id": "efeaa026-8970-4a43-86a7-360470804bc6",
   "metadata": {},
   "outputs": [
    {
     "name": "stdout",
     "output_type": "stream",
     "text": [
      "Number of Directors for 'Bugs Bunny's Third Movie: 1001 Rabbit Tales': 3\n"
     ]
    }
   ],
   "source": [
    "directors_count_bugs_bunny = len(movies_df[movies_df['titolo_originale'] == \"Bugs Bunny's Third Movie: 1001 Rabbit Tales\"]['registi'].values[0].split(','))\n",
    "print(\"Number of Directors for 'Bugs Bunny's Third Movie: 1001 Rabbit Tales':\", directors_count_bugs_bunny)\n"
   ]
  },
  {
   "cell_type": "code",
   "execution_count": 32,
   "id": "483114e3-b7dd-481e-a894-770c9a4cb632",
   "metadata": {},
   "outputs": [
    {
     "name": "stdout",
     "output_type": "stream",
     "text": [
      "Movie with the Highest Humor Rating: A Chump at Oxford\n"
     ]
    }
   ],
   "source": [
    "highest_humor_movie = movies_df.loc[movies_df['humor'].idxmax(), 'titolo_originale']\n",
    "print(\"Movie with the Highest Humor Rating:\", highest_humor_movie)\n"
   ]
  },
  {
   "cell_type": "code",
   "execution_count": 34,
   "id": "0824e5d2-246c-4f30-8f98-2a41e5c719ac",
   "metadata": {},
   "outputs": [
    {
     "name": "stdout",
     "output_type": "stream",
     "text": [
      "Average Rhythm Rating: 1.3453465059542502\n"
     ]
    }
   ],
   "source": [
    "average_rhythm_rating = movies_df['ritmo'].mean()\n",
    "print(\"Average Rhythm Rating:\", average_rhythm_rating)\n"
   ]
  },
  {
   "cell_type": "code",
   "execution_count": 36,
   "id": "d6aa4991-8a3f-4c60-9972-9350ff0f8365",
   "metadata": {},
   "outputs": [
    {
     "name": "stdout",
     "output_type": "stream",
     "text": [
      "Movie with the Lowest Public Vote: Addio, Napoli!\n"
     ]
    }
   ],
   "source": [
    "lowest_public_vote_movie = movies_df.loc[movies_df['voto_pubblico'].idxmin(), 'titolo_originale']\n",
    "print(\"Movie with the Lowest Public Vote:\", lowest_public_vote_movie)\n"
   ]
  },
  {
   "cell_type": "code",
   "execution_count": 38,
   "id": "8fea7673-3c3e-486f-bced-5d0ac8a734d8",
   "metadata": {},
   "outputs": [
    {
     "name": "stdout",
     "output_type": "stream",
     "text": [
      "Year of Release for 'Diner': 1982\n"
     ]
    }
   ],
   "source": [
    "year_diner = movies_df[movies_df['titolo_originale'] == \"Diner\"]['anno'].values[0]\n",
    "print(\"Year of Release for 'Diner':\", year_diner)\n"
   ]
  },
  {
   "cell_type": "code",
   "execution_count": 40,
   "id": "d9df3742-4d15-4062-87ec-96910d7fdd48",
   "metadata": {},
   "outputs": [
    {
     "name": "stdout",
     "output_type": "stream",
     "text": [
      "Country that Produced '18 anni tra una settimana': Italia\n"
     ]
    }
   ],
   "source": [
    "country_18_anni = movies_df[movies_df['titolo_originale'] == \"18 anni tra una settimana\"]['paese'].values[0]\n",
    "print(\"Country that Produced '18 anni tra una settimana':\", country_18_anni)\n"
   ]
  },
  {
   "cell_type": "code",
   "execution_count": 42,
   "id": "026624a1-0f9d-41d3-993e-2d193e41d3fc",
   "metadata": {},
   "outputs": [
    {
     "name": "stdout",
     "output_type": "stream",
     "text": [
      "Eroticism Rating for 'In Bed With Madonna': 2\n"
     ]
    }
   ],
   "source": [
    "eroticism_in_bed_with_madonna = movies_df[movies_df['titolo_originale'] == \"In Bed With Madonna\"]['erotismo'].values[0]\n",
    "print(\"Eroticism Rating for 'In Bed With Madonna':\", eroticism_in_bed_with_madonna)\n"
   ]
  },
  {
   "cell_type": "code",
   "execution_count": 44,
   "id": "73625486-2317-471f-9ef3-b324df7bd179",
   "metadata": {},
   "outputs": [
    {
     "name": "stdout",
     "output_type": "stream",
     "text": [
      "Average Tension Rating: 0.9191526365371144\n"
     ]
    }
   ],
   "source": [
    "average_tension_rating = movies_df['tensione'].mean()\n",
    "print(\"Average Tension Rating:\", average_tension_rating)\n"
   ]
  },
  {
   "cell_type": "code",
   "execution_count": 46,
   "id": "9b0df1c0-7e48-4d85-8973-55ddbb3bd68a",
   "metadata": {},
   "outputs": [
    {
     "name": "stdout",
     "output_type": "stream",
     "text": [
      "Movie with the Longest Duration: Die Zweite Heimat - Chronik einer Jugend\n"
     ]
    }
   ],
   "source": [
    "longest_duration_movie = movies_df.loc[movies_df['durata'].idxmax(), 'titolo_originale']\n",
    "print(\"Movie with the Longest Duration:\", longest_duration_movie)\n"
   ]
  },
  {
   "cell_type": "code",
   "execution_count": 48,
   "id": "d2436620-2fee-42ad-8a16-9fbf81363eb9",
   "metadata": {},
   "outputs": [
    {
     "name": "stdout",
     "output_type": "stream",
     "text": [
      "Director of 'Ride a Wild Pony': Don Chaffey\n"
     ]
    }
   ],
   "source": [
    "director_ride_a_wild_pony = movies_df[movies_df['titolo_originale'] == \"Ride a Wild Pony\"]['registi'].values[0]\n",
    "print(\"Director of 'Ride a Wild Pony':\", director_ride_a_wild_pony)\n"
   ]
  },
  {
   "cell_type": "code",
   "execution_count": 50,
   "id": "cd74cb10-e9cc-41be-8937-bf2a26c8458e",
   "metadata": {},
   "outputs": [
    {
     "name": "stdout",
     "output_type": "stream",
     "text": [
      "Total Votes for 'Ride a Wild Pony': 10\n"
     ]
    }
   ],
   "source": [
    "votes_ride_a_wild_pony = movies_df[movies_df['titolo_originale'] == \"Ride a Wild Pony\"]['voti_totali'].values[0]\n",
    "print(\"Total Votes for 'Ride a Wild Pony':\", votes_ride_a_wild_pony)\n"
   ]
  },
  {
   "cell_type": "code",
   "execution_count": 52,
   "id": "574d5fda-2caf-4904-8731-a4dcc64701c9",
   "metadata": {},
   "outputs": [
    {
     "name": "stdout",
     "output_type": "stream",
     "text": [
      "Number of Actors for 'Mr. Majestyk': 4\n"
     ]
    }
   ],
   "source": [
    "actors_count_mr_majestyk = len(movies_df[movies_df['titolo_originale'] == \"Mr. Majestyk\"]['attori'].values[0].split(','))\n",
    "print(\"Number of Actors for 'Mr. Majestyk':\", actors_count_mr_majestyk)\n"
   ]
  },
  {
   "cell_type": "code",
   "execution_count": 54,
   "id": "32a504e7-833a-49ef-91a4-bfbeb70ed390",
   "metadata": {},
   "outputs": [
    {
     "name": "stdout",
     "output_type": "stream",
     "text": [
      "Movie with the Highest Total Vote Count: Pulp Fiction\n"
     ]
    }
   ],
   "source": [
    "highest_total_votes_movie = movies_df.loc[movies_df['voti_totali'].idxmax(), 'titolo_originale']\n",
    "print(\"Movie with the Highest Total Vote Count:\", highest_total_votes_movie)\n"
   ]
  },
  {
   "cell_type": "code",
   "execution_count": 56,
   "id": "f0507ac0-4356-4788-af10-d7801aaf5f5f",
   "metadata": {},
   "outputs": [
    {
     "name": "stdout",
     "output_type": "stream",
     "text": [
      "Rhythm Rating for 'Ride a Wild Pony': 2\n"
     ]
    }
   ],
   "source": [
    "rhythm_ride_a_wild_pony = movies_df[movies_df['titolo_originale'] == \"Ride a Wild Pony\"]['ritmo'].values[0]\n",
    "print(\"Rhythm Rating for 'Ride a Wild Pony':\", rhythm_ride_a_wild_pony)\n"
   ]
  },
  {
   "cell_type": "code",
   "execution_count": 58,
   "id": "e0135094-6324-441c-aeaa-97f36ffb788e",
   "metadata": {},
   "outputs": [
    {
     "data": {
      "image/png": "[encoded data removed]",
      "text/plain": [
       "<Figure size 1000x600 with 1 Axes>"
      ]
     },
     "metadata": {},
     "output_type": "display_data"
    }
   ],
   "source": [
    "import matplotlib.pyplot as plt\n",
    "\n",
    "# Plotting the number of movies released each year\n",
    "movies_per_year = movies_df['anno'].value_counts().sort_index()\n",
    "movies_per_year.plot(kind='bar', figsize=(10, 6))\n",
    "plt.xlabel('Year')\n",
    "plt.ylabel('Number of Movies')\n",
    "plt.title('Number of Movies Released Each Year')\n",
    "plt.show()\n"
   ]
  },
  {
   "cell_type": "code",
   "execution_count": null,
   "id": "6ecbdabe-22aa-45ab-ac77-5ed9d3b9701b",
   "metadata": {},
   "outputs": [],
   "source": []
  }
 ],
 "metadata": {
  "kernelspec": {
   "display_name": "Python 3 (ipykernel)",
   "language": "python",
   "name": "python3"
  },
  "language_info": {
   "codemirror_mode": {
    "name": "ipython",
    "version": 3
   },
   "file_extension": ".py",
   "mimetype": "text/x-python",
   "name": "python",
   "nbconvert_exporter": "python",
   "pygments_lexer": "ipython3",
   "version": "3.12.4"
  }
 },
 "nbformat": 4,
 "nbformat_minor": 5
}
